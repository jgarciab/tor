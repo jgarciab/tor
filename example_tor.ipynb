{
 "cells": [
  {
   "cell_type": "code",
   "execution_count": 1,
   "metadata": {
    "collapsed": false
   },
   "outputs": [],
   "source": [
    "import sys\n",
    "import os\n",
    "import requests\n",
    "#sys.path.append(\"~/Dropbox/mondayProjects/tor_scraper/tor_control.py\")\n",
    "from tor_control import TorControl"
   ]
  },
  {
   "cell_type": "code",
   "execution_count": 2,
   "metadata": {
    "collapsed": false
   },
   "outputs": [
    {
     "name": "stdout",
     "output_type": "stream",
     "text": [
      "TOR CONTROLLER\n",
      "Make sure that Tor is active in port 9050 and the Controller is active in port 9051\n",
      "to activate uncomment lines ControlPort and HashedControlPassword from /etc/tor/torrc and restart tor\n"
     ]
    }
   ],
   "source": [
    "tc = TorControl()"
   ]
  },
  {
   "cell_type": "code",
   "execution_count": 3,
   "metadata": {
    "collapsed": false
   },
   "outputs": [
    {
     "name": "stdout",
     "output_type": "stream",
     "text": [
      "18.85.22.204\n",
      "62.210.115.87\n"
     ]
    }
   ],
   "source": [
    "print(requests.get(\"https://api.ipify.org?format=jso\").text)\n",
    "tc.renew_tor()\n",
    "print(requests.get(\"https://api.ipify.org?format=jso\").text)\n"
   ]
  },
  {
   "cell_type": "code",
   "execution_count": null,
   "metadata": {
    "collapsed": false
   },
   "outputs": [],
   "source": []
  }
 ],
 "metadata": {
  "anaconda-cloud": {},
  "kernelspec": {
   "display_name": "Python [conda root]",
   "language": "python",
   "name": "conda-root-py"
  },
  "language_info": {
   "codemirror_mode": {
    "name": "ipython",
    "version": 3
   },
   "file_extension": ".py",
   "mimetype": "text/x-python",
   "name": "python",
   "nbconvert_exporter": "python",
   "pygments_lexer": "ipython3",
   "version": "3.5.2"
  }
 },
 "nbformat": 4,
 "nbformat_minor": 1
}
